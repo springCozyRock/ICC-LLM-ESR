{
 "cells": [
  {
   "cell_type": "code",
   "execution_count": null,
   "id": "96465e10",
   "metadata": {
    "vscode": {
     "languageId": "plaintext"
    }
   },
   "outputs": [],
   "source": [
    "import pickle, torch, os\n",
    "from pathlib import Path\n",
    "\n",
    "# 1) 读原来的 pkl\n",
    "labels = pickle.load(open(\"yelp/handled/item_cluster_labels.pkl\", \"rb\"))\n",
    "# 如果它是 numpy.ndarray 就先转 LongTensor\n",
    "if not torch.is_tensor(labels):\n",
    "    labels = torch.as_tensor(labels, dtype=torch.long)\n",
    "\n",
    "# 2) 确保 0 号留给 PAD；若你的 labels 已经包含 0，可以直接保存\n",
    "save_path = Path(\"yelp\") / \"item_cluster.pt\"\n",
    "os.makedirs(save_path.parent, exist_ok=True)\n",
    "torch.save(labels, save_path)\n",
    "print(\"saved to\", save_path, labels.shape)      # (item_num + 1,)"
   ]
  }
 ],
 "metadata": {
  "language_info": {
   "name": "python"
  }
 },
 "nbformat": 4,
 "nbformat_minor": 5
}
